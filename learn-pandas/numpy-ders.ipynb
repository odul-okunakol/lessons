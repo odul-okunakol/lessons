{
 "cells": [
  {
   "cell_type": "code",
   "id": "initial_id",
   "metadata": {
    "collapsed": true,
    "ExecuteTime": {
     "end_time": "2024-12-31T12:13:42.302696Z",
     "start_time": "2024-12-31T12:13:42.299760Z"
    }
   },
   "source": [
    "import numpy as np\n",
    "import pandas as pd"
   ],
   "outputs": [],
   "execution_count": 14
  },
  {
   "metadata": {
    "ExecuteTime": {
     "end_time": "2024-12-31T12:10:03.562794Z",
     "start_time": "2024-12-31T12:10:03.559446Z"
    }
   },
   "cell_type": "code",
   "source": "liste = [1,2,3,4,5]",
   "id": "1a3089714cd48d14",
   "outputs": [],
   "execution_count": 2
  },
  {
   "metadata": {
    "ExecuteTime": {
     "end_time": "2024-12-31T12:10:06.916945Z",
     "start_time": "2024-12-31T12:10:06.909400Z"
    }
   },
   "cell_type": "code",
   "source": "type(liste)",
   "id": "f1530b4325db46ba",
   "outputs": [
    {
     "data": {
      "text/plain": [
       "list"
      ]
     },
     "execution_count": 3,
     "metadata": {},
     "output_type": "execute_result"
    }
   ],
   "execution_count": 3
  },
  {
   "metadata": {
    "ExecuteTime": {
     "end_time": "2024-12-31T12:10:39.200041Z",
     "start_time": "2024-12-31T12:10:39.196086Z"
    }
   },
   "cell_type": "code",
   "source": "liste2 = np.array([1,2,3,4,5])",
   "id": "16e408cb3eb36cae",
   "outputs": [],
   "execution_count": 4
  },
  {
   "metadata": {
    "ExecuteTime": {
     "end_time": "2024-12-31T12:11:01.023742Z",
     "start_time": "2024-12-31T12:11:01.020034Z"
    }
   },
   "cell_type": "code",
   "source": "type(liste2)",
   "id": "f751d9ac17d7b1c7",
   "outputs": [
    {
     "data": {
      "text/plain": [
       "numpy.ndarray"
      ]
     },
     "execution_count": 6,
     "metadata": {},
     "output_type": "execute_result"
    }
   ],
   "execution_count": 6
  },
  {
   "metadata": {},
   "cell_type": "code",
   "outputs": [],
   "execution_count": null,
   "source": "# [[1, 2, 3, 4, 5],[4,5,6]]",
   "id": "be2838879f42d272"
  },
  {
   "metadata": {
    "ExecuteTime": {
     "end_time": "2024-12-31T12:12:24.034164Z",
     "start_time": "2024-12-31T12:12:24.030870Z"
    }
   },
   "cell_type": "code",
   "source": "liste3 = np.array([[1, 2, 3,],[4,5,6]])",
   "id": "aaf4433ba5946a5b",
   "outputs": [],
   "execution_count": 10
  },
  {
   "metadata": {
    "ExecuteTime": {
     "end_time": "2024-12-31T12:13:15.180854Z",
     "start_time": "2024-12-31T12:13:15.178582Z"
    }
   },
   "cell_type": "code",
   "source": "colonlar= [\"yaş\",\"maaş\",\"gün\"]",
   "id": "b5a9c2223b4c9952",
   "outputs": [],
   "execution_count": 12
  },
  {
   "metadata": {
    "ExecuteTime": {
     "end_time": "2024-12-31T12:13:43.752864Z",
     "start_time": "2024-12-31T12:13:43.744613Z"
    }
   },
   "cell_type": "code",
   "source": "pd.DataFrame(data=liste3,columns=colonlar)",
   "id": "14dfd810d88a804f",
   "outputs": [
    {
     "data": {
      "text/plain": [
       "   yaş  maaş  gün\n",
       "0    1     2    3\n",
       "1    4     5    6"
      ],
      "text/html": [
       "<div>\n",
       "<style scoped>\n",
       "    .dataframe tbody tr th:only-of-type {\n",
       "        vertical-align: middle;\n",
       "    }\n",
       "\n",
       "    .dataframe tbody tr th {\n",
       "        vertical-align: top;\n",
       "    }\n",
       "\n",
       "    .dataframe thead th {\n",
       "        text-align: right;\n",
       "    }\n",
       "</style>\n",
       "<table border=\"1\" class=\"dataframe\">\n",
       "  <thead>\n",
       "    <tr style=\"text-align: right;\">\n",
       "      <th></th>\n",
       "      <th>yaş</th>\n",
       "      <th>maaş</th>\n",
       "      <th>gün</th>\n",
       "    </tr>\n",
       "  </thead>\n",
       "  <tbody>\n",
       "    <tr>\n",
       "      <th>0</th>\n",
       "      <td>1</td>\n",
       "      <td>2</td>\n",
       "      <td>3</td>\n",
       "    </tr>\n",
       "    <tr>\n",
       "      <th>1</th>\n",
       "      <td>4</td>\n",
       "      <td>5</td>\n",
       "      <td>6</td>\n",
       "    </tr>\n",
       "  </tbody>\n",
       "</table>\n",
       "</div>"
      ]
     },
     "execution_count": 15,
     "metadata": {},
     "output_type": "execute_result"
    }
   ],
   "execution_count": 15
  },
  {
   "metadata": {
    "ExecuteTime": {
     "end_time": "2024-12-31T12:15:19.451669Z",
     "start_time": "2024-12-31T12:15:19.447715Z"
    }
   },
   "cell_type": "code",
   "source": [
    "random_array = np.random.randint(0,10,size=(3,3))\n",
    "print(random_array)\n"
   ],
   "id": "9d893f8ae3d09150",
   "outputs": [
    {
     "name": "stdout",
     "output_type": "stream",
     "text": [
      "[[5 1 7]\n",
      " [0 9 3]\n",
      " [0 6 6]]\n"
     ]
    }
   ],
   "execution_count": 18
  },
  {
   "metadata": {
    "ExecuteTime": {
     "end_time": "2024-12-31T12:16:10.520415Z",
     "start_time": "2024-12-31T12:16:10.514550Z"
    }
   },
   "cell_type": "code",
   "source": [
    "arr = np.array([1,2,3,4])\n",
    "np.sum(arr)"
   ],
   "id": "9cb225c71e5d4e6b",
   "outputs": [
    {
     "data": {
      "text/plain": [
       "np.int64(10)"
      ]
     },
     "execution_count": 19,
     "metadata": {},
     "output_type": "execute_result"
    }
   ],
   "execution_count": 19
  },
  {
   "metadata": {
    "ExecuteTime": {
     "end_time": "2024-12-31T12:16:21.022059Z",
     "start_time": "2024-12-31T12:16:21.017419Z"
    }
   },
   "cell_type": "code",
   "source": "np.mean(arr)",
   "id": "2b732e76d9266d1",
   "outputs": [
    {
     "data": {
      "text/plain": [
       "np.float64(2.5)"
      ]
     },
     "execution_count": 20,
     "metadata": {},
     "output_type": "execute_result"
    }
   ],
   "execution_count": 20
  },
  {
   "metadata": {},
   "cell_type": "code",
   "outputs": [],
   "execution_count": null,
   "source": "",
   "id": "9699d9149fad5948"
  }
 ],
 "metadata": {
  "kernelspec": {
   "display_name": "Python 3",
   "language": "python",
   "name": "python3"
  },
  "language_info": {
   "codemirror_mode": {
    "name": "ipython",
    "version": 2
   },
   "file_extension": ".py",
   "mimetype": "text/x-python",
   "name": "python",
   "nbconvert_exporter": "python",
   "pygments_lexer": "ipython2",
   "version": "2.7.6"
  }
 },
 "nbformat": 4,
 "nbformat_minor": 5
}
