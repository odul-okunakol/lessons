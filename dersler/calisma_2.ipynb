{
 "cells": [
  {
   "cell_type": "code",
   "id": "initial_id",
   "metadata": {
    "collapsed": true,
    "ExecuteTime": {
     "end_time": "2025-01-10T14:56:21.445366Z",
     "start_time": "2025-01-10T14:56:21.419330Z"
    }
   },
   "source": [
    "import pandas as pd\n",
    "data= {\n",
    "    \"Ad\":[\"Ahmet\",\"Ayse\",\"Mehmet\"],\n",
    "    \"Yas\":[25,30,22],\n",
    "    \"Sehir\": [\"Istanbul\",\"Ankara\",\"Izmir\"]\n",
    "       }\n",
    "df=pd.DataFrame(data)\n",
    "print(\"DataFrame:\\n\",df)\n",
    "df2=pd.read_csv(\"Toyota_Data.csv\")\n",
    "print(\"İlk 5 Satır:\\n\", df2.head())\n",
    "df[\"Maas\"]=[4000,5000,6000]\n",
    "print(\"DataFrame:\\n\",df)\n",
    "filtered_df=df[df[\"Yas\"]>25]\n",
    "print(\"Filtered DataFrame:\\n\",filtered_df)\n",
    "print(filtered_df)"
   ],
   "outputs": [
    {
     "name": "stdout",
     "output_type": "stream",
     "text": [
      "DataFrame:\n",
      "        Ad  Yas     Sehir\n",
      "0   Ahmet   25  Istanbul\n",
      "1    Ayse   30    Ankara\n",
      "2  Mehmet   22     Izmir\n",
      "İlk 5 Satır:\n",
      "          Date  Adj Close     Close      High       Low      Open  Volume\n",
      "0  1980-03-17   2.296798  3.291227  3.344743  3.291227  0.000000   41109\n",
      "1  1980-03-18   2.306134  3.304606  3.358122  3.304606  0.000000    9343\n",
      "2  1980-03-19   2.306134  3.304606  3.304606  3.304606  3.304606       0\n",
      "3  1980-03-20   2.306134  3.304606  3.358122  3.304606  0.000000   10277\n",
      "4  1980-03-21   2.362154  3.384880  3.438396  3.384880  0.000000    8409\n",
      "DataFrame:\n",
      "        Ad  Yas     Sehir  Maas\n",
      "0   Ahmet   25  Istanbul  4000\n",
      "1    Ayse   30    Ankara  5000\n",
      "2  Mehmet   22     Izmir  6000\n",
      "Filtered DataFrame:\n",
      "      Ad  Yas   Sehir  Maas\n",
      "1  Ayse   30  Ankara  5000\n",
      "     Ad  Yas   Sehir  Maas\n",
      "1  Ayse   30  Ankara  5000\n"
     ]
    }
   ],
   "execution_count": 5
  },
  {
   "metadata": {},
   "cell_type": "code",
   "source": "print(\"Yas_ortalmasi:\",df[\"Yas\"].mean())",
   "id": "9e6577b15308c82f",
   "outputs": [
    {
     "name": "stdout",
     "output_type": "stream",
     "text": [
      "Yas_ortalmasi: 25.666666666666668\n"
     ]
    }
   ],
   "execution_count": 13
  },
  {
   "metadata": {
    "ExecuteTime": {
     "end_time": "2025-01-08T19:37:17.700364Z",
     "start_time": "2025-01-08T19:37:17.689995Z"
    }
   },
   "cell_type": "code",
   "source": "print(\"Maas_ort:\",filtered_df[\"Maas\"].mean())",
   "id": "80cb4cbc126c67f4",
   "outputs": [
    {
     "name": "stdout",
     "output_type": "stream",
     "text": [
      "Maas_ort: 5000.0\n"
     ]
    }
   ],
   "execution_count": 14
  },
  {
   "metadata": {
    "ExecuteTime": {
     "end_time": "2025-01-09T13:35:52.692237Z",
     "start_time": "2025-01-09T13:35:51.878882Z"
    }
   },
   "cell_type": "code",
   "source": [
    "import pandas as pd\n",
    "data= {\n",
    "    \"Ürün\":[\"A\",\"B\",\"C\"],\n",
    "    \"Fiyat\":[50,100,150],\n",
    "    \"Satis\":[10,20,15]\n",
    "}\n",
    "df=pd.DataFrame(data)\n",
    "ortalama_satis=df[\"Satis\"].mean()\n",
    "print(\"Ortalama Satis:\",ortalama_satis)"
   ],
   "id": "f15b1359e26b2056",
   "outputs": [
    {
     "name": "stdout",
     "output_type": "stream",
     "text": [
      "Ortalama Satis: 15.0\n"
     ]
    }
   ],
   "execution_count": 2
  },
  {
   "metadata": {
    "ExecuteTime": {
     "end_time": "2025-01-09T13:50:44.749664Z",
     "start_time": "2025-01-09T13:50:44.731542Z"
    }
   },
   "cell_type": "code",
   "source": [
    "data = {\n",
    "    \"Ad\": [\"Ahmet\", \"Ayşe\", \"Mehmet\", \"Fatma\"],\n",
    "    \"Yas\": [25, 30, 22, 27],\n",
    "    \"Maas\": [4000, 5000, 3500, 4500]\n",
    "}\n",
    "df = pd.DataFrame(data)\n",
    "\n",
    "yas_kolon = df[\"Yas\"]\n",
    "print(\"Yas Kolonu:\\n\", yas_kolon)\n",
    "filtre2 = df[(df[\"Yas\"] > 25) & (df[\"Maas\"] > 4000)]\n",
    "print(\"25 Yaş Üstü ve Maaşı 4000'den Fazla Olanlar:\\n\", filtre2)\n",
    "df[\"Yeni Maas\"]=df[\"Maas\"]*1.1\n",
    "print(\"Maas Artisi:\\n\",df)\n",
    "df[\"Yas_Kategorisi\"]=[\"Genc\" if yas<30 else \"Orta_Yas\" for yas in df[\"Yas\"]]\n",
    "print(\"Yas Kategorisi:\\n\",df)"
   ],
   "id": "4af0ad23cae1ddc",
   "outputs": [
    {
     "name": "stdout",
     "output_type": "stream",
     "text": [
      "Yas Kolonu:\n",
      " 0    25\n",
      "1    30\n",
      "2    22\n",
      "3    27\n",
      "Name: Yas, dtype: int64\n",
      "25 Yaş Üstü ve Maaşı 4000'den Fazla Olanlar:\n",
      "       Ad  Yas  Maas\n",
      "1   Ayşe   30  5000\n",
      "3  Fatma   27  4500\n",
      "Maas Artisi:\n",
      "        Ad  Yas  Maas  Yeni Maas\n",
      "0   Ahmet   25  4000     4400.0\n",
      "1    Ayşe   30  5000     5500.0\n",
      "2  Mehmet   22  3500     3850.0\n",
      "3   Fatma   27  4500     4950.0\n",
      "Yas Kategorisi:\n",
      "        Ad  Yas  Maas  Yeni Maas Yas_Kategorisi\n",
      "0   Ahmet   25  4000     4400.0           Genc\n",
      "1    Ayşe   30  5000     5500.0       Orta_Yas\n",
      "2  Mehmet   22  3500     3850.0           Genc\n",
      "3   Fatma   27  4500     4950.0           Genc\n"
     ]
    }
   ],
   "execution_count": 9
  },
  {
   "metadata": {
    "ExecuteTime": {
     "end_time": "2025-01-09T14:08:27.868273Z",
     "start_time": "2025-01-09T14:08:27.853073Z"
    }
   },
   "cell_type": "code",
   "source": [
    "data = {\n",
    "    \"Bölüm\": [\"A\", \"A\", \"B\", \"B\", \"C\"],\n",
    "    \"Çalısan Sayisi\": [10, 15, 10, 5, 8],\n",
    "    \"Gelir\": [10000, 15000, 8000, 5000, 7000]\n",
    "}\n",
    "df = pd.DataFrame(data)\n",
    "grup=df.groupby([\"Bölüm\"]).sum()\n",
    "print(grup)\n",
    "#print(\"Gruplama Sonuçları:\\n\", grup)\n",
    "ortalama_gelir=df.groupby([\"Bölüm\"])[\"Gelir\"].mean()\n",
    "print(ortalama_gelir)\n",
    "print(\"ortalama_gelir:\\n\",ortalama_gelir)"
   ],
   "id": "647b054105384d07",
   "outputs": [
    {
     "name": "stdout",
     "output_type": "stream",
     "text": [
      "       Çalısan Sayisi  Gelir\n",
      "Bölüm                       \n",
      "A                  25  25000\n",
      "B                  15  13000\n",
      "C                   8   7000\n",
      "Bölüm\n",
      "A    12500.0\n",
      "B     6500.0\n",
      "C     7000.0\n",
      "Name: Gelir, dtype: float64\n",
      "ortalama_gelir:\n",
      " Bölüm\n",
      "A    12500.0\n",
      "B     6500.0\n",
      "C     7000.0\n",
      "Name: Gelir, dtype: float64\n"
     ]
    }
   ],
   "execution_count": 16
  },
  {
   "metadata": {
    "ExecuteTime": {
     "end_time": "2025-01-10T14:12:54.724998Z",
     "start_time": "2025-01-10T14:12:53.977267Z"
    }
   },
   "cell_type": "code",
   "source": [
    "import pandas as pd\n",
    "\n",
    "data = {\n",
    "    \"Ad\": [\"Ahmet\", \"Ayşe\", \"Mehmet\", None],\n",
    "    \"Yas\": [25, None, 22, 27],\n",
    "    \"Maas\": [4000, 5000, None, 4500]\n",
    "}\n",
    "df = pd.DataFrame(data)\n",
    "df[\"Yas\"]=df[\"Yas\"].fillna(df[\"Yas\"].mean())\n",
    "print(df)\n",
    "df_dropped = df.dropna()\n",
    "print(\"Eksik Veriler Kaldırıldı:\\n\", df_dropped)\n",
    "\n"
   ],
   "id": "308afe2dc12226b5",
   "outputs": [
    {
     "name": "stdout",
     "output_type": "stream",
     "text": [
      "       Ad        Yas    Maas\n",
      "0   Ahmet  25.000000  4000.0\n",
      "1    Ayşe  24.666667  5000.0\n",
      "2  Mehmet  22.000000     NaN\n",
      "3    None  27.000000  4500.0\n",
      "Eksik Veriler Kaldırıldı:\n",
      "       Ad        Yas    Maas\n",
      "0  Ahmet  25.000000  4000.0\n",
      "1   Ayşe  24.666667  5000.0\n"
     ]
    }
   ],
   "execution_count": 2
  },
  {
   "metadata": {
    "ExecuteTime": {
     "end_time": "2025-01-10T14:31:03.222875Z",
     "start_time": "2025-01-10T14:31:03.199609Z"
    }
   },
   "cell_type": "code",
   "source": [
    "data = {\n",
    "    \"Bölüm\": [\"A\", \"A\", \"B\", \"B\", \"C\"],\n",
    "    \"Calisan\": [\"Ali\", \"Ayşe\", \"Mehmet\", \"Fatma\", \"Ahmet\"],\n",
    "    \"Gelir\": [10000, 15000, 8000, 5000, 7000]\n",
    "}\n",
    "df = pd.DataFrame(data)\n",
    "pivot= df.pivot_table(values=\"Gelir\",index=\"Bölüm\",columns=\"Calisan\",fill_value=0)\n",
    "print(pivot)"
   ],
   "id": "28714ac8a7fdfda2",
   "outputs": [
    {
     "name": "stdout",
     "output_type": "stream",
     "text": [
      "Calisan   Ahmet      Ali     Ayşe   Fatma  Mehmet\n",
      "Bölüm                                            \n",
      "A           0.0  10000.0  15000.0     0.0     0.0\n",
      "B           0.0      0.0      0.0  5000.0  8000.0\n",
      "C        7000.0      0.0      0.0     0.0     0.0\n"
     ]
    }
   ],
   "execution_count": 3
  },
  {
   "metadata": {
    "ExecuteTime": {
     "end_time": "2025-01-10T14:39:06.533190Z",
     "start_time": "2025-01-10T14:39:06.509414Z"
    }
   },
   "cell_type": "code",
   "source": [
    "data = {\n",
    "    \"Tarih\": [\"2024-01-01\", \"2024-02-01\", \"2024-03-01\"],\n",
    "    \"Gelir\": [10000, 15000, 20000]\n",
    "}\n",
    "df = pd.DataFrame(data)\n",
    "\n",
    "# Tarihleri datetime formatına çevirme\n",
    "df[\"Tarih\"] = pd.to_datetime(df[\"Tarih\"])\n",
    "\n",
    "# Ay bilgisi alma\n",
    "df[\"Ay\"] = df[\"Tarih\"].dt.month\n",
    "print(\"Ay Bilgisi:\\n\", df)\n",
    "\n",
    "# Tarih aralığına göre filtreleme\n",
    "filtered = df[(df[\"Tarih\"] >= \"2024-02-01\") & (df[\"Tarih\"] <= \"2024-03-01\")]\n",
    "print(\"Filtrelenmiş Tarihler:\\n\", filtered)\n",
    "\n"
   ],
   "id": "5905586882900419",
   "outputs": [
    {
     "name": "stdout",
     "output_type": "stream",
     "text": [
      "Ay Bilgisi:\n",
      "        Tarih  Gelir  Ay\n",
      "0 2024-01-01  10000   1\n",
      "1 2024-02-01  15000   2\n",
      "2 2024-03-01  20000   3\n",
      "Filtrelenmiş Tarihler:\n",
      "        Tarih  Gelir  Ay\n",
      "1 2024-02-01  15000   2\n",
      "2 2024-03-01  20000   3\n"
     ]
    }
   ],
   "execution_count": 4
  }
 ],
 "metadata": {
  "kernelspec": {
   "display_name": "Python 3",
   "language": "python",
   "name": "python3"
  },
  "language_info": {
   "codemirror_mode": {
    "name": "ipython",
    "version": 2
   },
   "file_extension": ".py",
   "mimetype": "text/x-python",
   "name": "python",
   "nbconvert_exporter": "python",
   "pygments_lexer": "ipython2",
   "version": "2.7.6"
  }
 },
 "nbformat": 4,
 "nbformat_minor": 5
}
