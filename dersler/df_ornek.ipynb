{
 "cells": [
  {
   "cell_type": "code",
   "id": "initial_id",
   "metadata": {
    "collapsed": true,
    "ExecuteTime": {
     "end_time": "2025-01-07T19:00:35.146537Z",
     "start_time": "2025-01-07T19:00:35.139134Z"
    }
   },
   "source": [
    "data = {\n",
    "    \"Departman\": [\"IT\", \"IT\", \"HR\", \"HR\", \"Finance\", \"Finance\"],\n",
    "    \"Çalışan\": [\"Ali\", \"Ayşe\", \"Mehmet\", \"Fatma\", \"Ahmet\", \"Zeynep\"],\n",
    "    \"Maas\": [4000, 4500, 3500, 3000, 6000, 6200]\n",
    "}\n",
    "\n",
    "import pandas as pd\n",
    "df = pd.DataFrame(data)\n",
    "\n",
    "def maas_ortalama(df):\n",
    "    ortalama_bul=df.groupby(\"Departman\")[\"Maas\"].mean()\n",
    "    return ortalama_bul\n"
   ],
   "outputs": [],
   "execution_count": 21
  },
  {
   "metadata": {
    "ExecuteTime": {
     "end_time": "2025-01-07T18:38:19.734487Z",
     "start_time": "2025-01-07T18:38:19.723640Z"
    }
   },
   "cell_type": "code",
   "source": [
    "\n",
    "data = {\n",
    "    \"Departman\": [\"IT\", \"IT\", \"HR\", \"HR\", \"Finance\", \"Finance\"],\n",
    "    \"Calısan\": [\"Ali\", \"Ayşe\", \"Mehmet\", \"Fatma\", \"Ahmet\", \"Zeynep\"],\n",
    "    \"Maas\": [4000, 4500, 3500, 3000, 6000, 6200]\n",
    "}\n",
    "df=pd.DataFrame(data)\n",
    "def toplam_maas_filtrele(df,limit):\n",
    "    toplam= df.groupby(\"Departman\")[\"Maas\"].sum()\n",
    "    kosul=toplam[toplam>limit]\n",
    "    return kosul\n",
    "print(toplam_maas_filtrele(df,6500))"
   ],
   "id": "4afade1367ba2e67",
   "outputs": [
    {
     "name": "stdout",
     "output_type": "stream",
     "text": [
      "Departman\n",
      "Finance    12200\n",
      "IT          8500\n",
      "Name: Maas, dtype: int64\n"
     ]
    }
   ],
   "execution_count": 16
  },
  {
   "metadata": {},
   "cell_type": "code",
   "outputs": [],
   "execution_count": null,
   "source": [
    "def toplam_maas_filtrele(df,limit):\n",
    "    toplam= df.groupby(\"Departman\")[\"Maas\"].sum()\n",
    "    kosul=toplam[toplam>limit]\n",
    "    return kosul"
   ],
   "id": "7bc6da95fd4d5e71"
  },
  {
   "metadata": {
    "ExecuteTime": {
     "end_time": "2025-01-07T19:03:13.418960Z",
     "start_time": "2025-01-07T19:03:13.402399Z"
    }
   },
   "cell_type": "code",
   "source": [
    "data = {\n",
    "    \"Departman\": [\"IT\", \"IT\", \"HR\", \"HR\", \"Finance\", \"Finance\"],\n",
    "    \"Calisan\": [\"Ali\", \"Ayşe\", \"Mehmet\", \"Fatma\", \"Ahmet\", \"Zeynep\"],\n",
    "    \"Maas\": [4000, 4500, 3500, 3000, 6000, 6200]\n",
    "}\n",
    "veri=pd.DataFrame(data)\n",
    "\n",
    "def toplam_maas_filtrele(df):\n",
    "    rapor= df.groupby(\"Departman\").agg(toplam_maas=(\"Maas\",\"sum\"),calisan_sayisi=(\"Calisan\",\"count\"),ortalama_maas=(\"Maas\",\"mean\"))\n",
    "    return rapor\n",
    "print(toplam_maas_filtrele(veri))"
   ],
   "id": "8c31fcc572ba445b",
   "outputs": [
    {
     "name": "stdout",
     "output_type": "stream",
     "text": [
      "           toplam_maas  calisan_sayisi  ortalama_maas\n",
      "Departman                                            \n",
      "Finance          12200               2         6100.0\n",
      "HR                6500               2         3250.0\n",
      "IT                8500               2         4250.0\n"
     ]
    }
   ],
   "execution_count": 25
  },
  {
   "metadata": {
    "ExecuteTime": {
     "end_time": "2025-01-07T18:55:06.715401Z",
     "start_time": "2025-01-07T18:55:06.705606Z"
    }
   },
   "cell_type": "code",
   "source": [
    "data = {\n",
    "    \"Departman\": [\"IT\", \"IT\", \"HR\", \"HR\", \"Finance\", \"Finance\"],\n",
    "    \"Çalışan\": [\"Ali\", \"Ayşe\", \"Mehmet\", \"Fatma\", \"Ahmet\", \"Zeynep\"],\n",
    "    \"Maas\": [4000, 4500, 3500, 3000, 6000, 6200]\n",
    "}\n",
    "\n",
    "df = pd.DataFrame(data)\n",
    "\n",
    "def maas_araligi(df):\n",
    "    df[\"maas_araligi\"]=df[\"Maas\"].apply(lambda x: \"Dusuk\" if x<4000 else \"Orta\" if x<5000 else \"Yuksek\")\n",
    "    return df\n",
    "print(maas_araligi(df))"
   ],
   "id": "8814cc603bcf21ed",
   "outputs": [
    {
     "name": "stdout",
     "output_type": "stream",
     "text": [
      "  Departman Çalışan  Maas maas_araligi\n",
      "0        IT     Ali  4000         Orta\n",
      "1        IT    Ayşe  4500         Orta\n",
      "2        HR  Mehmet  3500        Dusuk\n",
      "3        HR   Fatma  3000        Dusuk\n",
      "4   Finance   Ahmet  6000       Yuksek\n",
      "5   Finance  Zeynep  6200       Yuksek\n"
     ]
    }
   ],
   "execution_count": 17
  }
 ],
 "metadata": {
  "kernelspec": {
   "display_name": "Python 3",
   "language": "python",
   "name": "python3"
  },
  "language_info": {
   "codemirror_mode": {
    "name": "ipython",
    "version": 2
   },
   "file_extension": ".py",
   "mimetype": "text/x-python",
   "name": "python",
   "nbconvert_exporter": "python",
   "pygments_lexer": "ipython2",
   "version": "2.7.6"
  }
 },
 "nbformat": 4,
 "nbformat_minor": 5
}
